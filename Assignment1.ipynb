{
 "cells": [
  {
   "cell_type": "markdown",
   "metadata": {},
   "source": [
    "Part I: A photo booth application\n",
    "Recreate the OpenCV logo using OpenCV drawing functions only (e.g., cv2.circle, cv2.line, etc.).\n"
   ]
  },
  {
   "cell_type": "code",
   "execution_count": 57,
   "metadata": {},
   "outputs": [],
   "source": [
    "import cv2\n",
    "import numpy as np\n",
    "\n",
    "# Create a blank image with white background\n",
    "img = np.ones((400, 600, 3), dtype=np.uint8) * 255\n",
    "\n",
    "# Define colors in BGR format\n",
    "blue = (255, 0, 0)\n",
    "green = (0, 255, 0)\n",
    "red = (0, 0, 255)\n",
    "\n",
    "# Draw three ellipses in a triangular pattern with openings\n",
    "\n",
    "# Define ellipse parameters\n",
    "OUTER_ELLIPSE_SIZE = 50\n",
    "#INNER_ELLIPSE_SIZE = 30\n",
    "ELLIPSE_THICKNESS = 20\n",
    "OUTER_ELLIPSE_AXIS = (OUTER_ELLIPSE_SIZE, OUTER_ELLIPSE_SIZE)\n",
    "#INNER_ELLIPSE_AXIS = (INNER_ELLIPSE_SIZE, INNER_ELLIPSE_SIZE)\n",
    "\n",
    "# Define positions for each ellipse\n",
    "red_ellipse_center = (190, 130)\n",
    "green_ellipse_center = (120, 250)\n",
    "blue_ellipse_center = (250, 250)\n",
    "\n",
    "# Define angles for each ellipse (in degrees)\n",
    "red_ellipse_start_angle = 125\n",
    "red_ellipse_end_angle = 420\n",
    "\n",
    "green_ellipse_start_angle = 0\n",
    "green_ellipse_end_angle = 310\n",
    "\n",
    "blue_ellipse_start_angle = -60\n",
    "blue_ellipse_end_angle = 235\n",
    "\n",
    "# Define rotation angle constant (0 degrees = no rotation)\n",
    "ELLIPSE_ROTATION = 0\n",
    "\n",
    "# Define white color constant for inner ellipse fill\n",
    "WHITE = (255, 255, 255)\n",
    "\n",
    "# Draw red ring\n",
    "cv2.ellipse(img, red_ellipse_center, OUTER_ELLIPSE_AXIS, ELLIPSE_ROTATION, \n",
    "            red_ellipse_start_angle, red_ellipse_end_angle, red, ELLIPSE_THICKNESS)\n",
    "\n",
    "\n",
    "# Draw green ring\n",
    "cv2.ellipse(img, green_ellipse_center, OUTER_ELLIPSE_AXIS, ELLIPSE_ROTATION,\n",
    "            green_ellipse_start_angle, green_ellipse_end_angle, green, ELLIPSE_THICKNESS)\n",
    "\n",
    "\n",
    "# Draw blue ring\n",
    "cv2.ellipse(img, blue_ellipse_center, OUTER_ELLIPSE_AXIS, ELLIPSE_ROTATION,\n",
    "            blue_ellipse_start_angle, blue_ellipse_end_angle, blue, ELLIPSE_THICKNESS)\n",
    "\n",
    "\n",
    "\n",
    "#.\\Exo_2\\static\\Exo2-Bold.ttf\n",
    "# Add \"OpenCV\" text at the bottom left\n",
    "font = cv2.FONT_HERSHEY_SIMPLEX\n",
    "cv2.putText(img, 'OpenCV', (130, 350), font, 1, (0, 0, 0), 2, cv2.LINE_AA)\n",
    "\n",
    "# Display the image\n",
    "cv2.imshow('OpenCV Logo', img)\n",
    "cv2.waitKey(0)\n",
    "cv2.destroyAllWindows()\n",
    "\n"
   ]
  }
 ],
 "metadata": {
  "kernelspec": {
   "display_name": "Python 3",
   "language": "python",
   "name": "python3"
  },
  "language_info": {
   "codemirror_mode": {
    "name": "ipython",
    "version": 3
   },
   "file_extension": ".py",
   "mimetype": "text/x-python",
   "name": "python",
   "nbconvert_exporter": "python",
   "pygments_lexer": "ipython3",
   "version": "3.13.3"
  }
 },
 "nbformat": 4,
 "nbformat_minor": 2
}
