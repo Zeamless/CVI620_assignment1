{
 "cells": [
  {
   "cell_type": "markdown",
   "metadata": {},
   "source": [
    "Part I: A photo booth application\n",
    "\n",
    "Recreate the OpenCV logo using OpenCV drawing functions only (e.g., cv2.circle, cv2.line, etc.).\n"
   ]
  },
  {
   "cell_type": "code",
   "execution_count": 58,
   "metadata": {},
   "outputs": [],
   "source": [
    "import cv2\n",
    "import numpy as np\n",
    "\n",
    "# Create a blank image with white background\n",
    "img = np.ones((400, 600, 3), dtype=np.uint8) * 255\n",
    "\n",
    "# Define colors in BGR format\n",
    "blue = (255, 0, 0)\n",
    "green = (0, 255, 0)\n",
    "red = (0, 0, 255)\n",
    "\n",
    "# Draw three ellipses in a triangular pattern with openings\n",
    "\n",
    "# Define ellipse parameters\n",
    "OUTER_ELLIPSE_SIZE = 50\n",
    "#INNER_ELLIPSE_SIZE = 30\n",
    "ELLIPSE_THICKNESS = 20\n",
    "OUTER_ELLIPSE_AXIS = (OUTER_ELLIPSE_SIZE, OUTER_ELLIPSE_SIZE)\n",
    "#INNER_ELLIPSE_AXIS = (INNER_ELLIPSE_SIZE, INNER_ELLIPSE_SIZE)\n",
    "\n",
    "# Define positions for each ellipse\n",
    "red_ellipse_center = (190, 130)\n",
    "green_ellipse_center = (120, 250)\n",
    "blue_ellipse_center = (250, 250)\n",
    "\n",
    "# Define angles for each ellipse (in degrees)\n",
    "red_ellipse_start_angle = 125\n",
    "red_ellipse_end_angle = 420\n",
    "\n",
    "green_ellipse_start_angle = 0\n",
    "green_ellipse_end_angle = 310\n",
    "\n",
    "blue_ellipse_start_angle = -60\n",
    "blue_ellipse_end_angle = 235\n",
    "\n",
    "# Define rotation angle constant (0 degrees = no rotation)\n",
    "ELLIPSE_ROTATION = 0\n",
    "\n",
    "# Define white color constant for inner ellipse fill\n",
    "WHITE = (255, 255, 255)\n",
    "\n",
    "# Draw red ring\n",
    "cv2.ellipse(img, red_ellipse_center, OUTER_ELLIPSE_AXIS, ELLIPSE_ROTATION, \n",
    "            red_ellipse_start_angle, red_ellipse_end_angle, red, ELLIPSE_THICKNESS)\n",
    "\n",
    "\n",
    "# Draw green ring\n",
    "cv2.ellipse(img, green_ellipse_center, OUTER_ELLIPSE_AXIS, ELLIPSE_ROTATION,\n",
    "            green_ellipse_start_angle, green_ellipse_end_angle, green, ELLIPSE_THICKNESS)\n",
    "\n",
    "\n",
    "# Draw blue ring\n",
    "cv2.ellipse(img, blue_ellipse_center, OUTER_ELLIPSE_AXIS, ELLIPSE_ROTATION,\n",
    "            blue_ellipse_start_angle, blue_ellipse_end_angle, blue, ELLIPSE_THICKNESS)\n",
    "\n",
    "\n",
    "\n",
    "#.\\Exo_2\\static\\Exo2-Bold.ttf\n",
    "# Add \"OpenCV\" text at the bottom left\n",
    "font = cv2.FONT_HERSHEY_SIMPLEX\n",
    "cv2.putText(img, 'OpenCV', (130, 350), font, 1, (0, 0, 0), 2, cv2.LINE_AA)\n",
    "\n",
    "# Display the image\n",
    "cv2.imshow('OpenCV Logo', img)\n",
    "cv2.waitKey(0)\n",
    "cv2.destroyAllWindows()\n",
    "\n"
   ]
  },
  {
   "cell_type": "markdown",
   "metadata": {},
   "source": [
    "Part II: Image Arithmetic\n",
    "Write a Python script to manually blend two images using NumPy operations.\n",
    "\n",
    "Use the following formula to blend them:\n",
    "\n",
    "blend = (1−α)⋅img1 + α⋅img2\n",
    "\n",
    "alpha must be a value between 0 and 1.\n",
    "Do not use cv2.addWeighted.\n",
    "Display and save the blended image as \"manual_blend.jpg\""
   ]
  },
  {
   "cell_type": "code",
   "execution_count": 59,
   "metadata": {},
   "outputs": [
    {
     "data": {
      "text/plain": [
       "True"
      ]
     },
     "execution_count": 59,
     "metadata": {},
     "output_type": "execute_result"
    }
   ],
   "source": [
    "# Read the two images\n",
    "img1 = cv2.imread('image1.jpg')\n",
    "img2 = cv2.imread('image2.jpg')\n",
    "\n",
    "# Ensure both images have the same dimensions\n",
    "if img1.shape != img2.shape:\n",
    "    img2 = cv2.resize(img2, (img1.shape[1], img1.shape[0]))\n",
    "\n",
    "# Convert images to float32 for calculations\n",
    "img1 = img1.astype(np.float32)\n",
    "img2 = img2.astype(np.float32)\n",
    "\n",
    "# Define alpha value (between 0 and 1)\n",
    "alpha = 0.5\n",
    "\n",
    "# Perform manual blending using the formula: blend = (1-α)⋅img1 + α⋅img2\n",
    "blend = (1 - alpha) * img1 + alpha * img2\n",
    "\n",
    "# Convert back to uint8 for display and saving\n",
    "blend = np.clip(blend, 0, 255).astype(np.uint8)\n",
    "\n",
    "# Display the blended image\n",
    "cv2.imshow('Manual Blend', blend)\n",
    "cv2.waitKey(0)\n",
    "cv2.destroyAllWindows()\n",
    "\n",
    "# Save the blended image\n",
    "cv2.imwrite('manual_blend.jpg', blend)\n"
   ]
  }
 ],
 "metadata": {
  "kernelspec": {
   "display_name": "Python 3",
   "language": "python",
   "name": "python3"
  },
  "language_info": {
   "codemirror_mode": {
    "name": "ipython",
    "version": 3
   },
   "file_extension": ".py",
   "mimetype": "text/x-python",
   "name": "python",
   "nbconvert_exporter": "python",
   "pygments_lexer": "ipython3",
   "version": "3.13.3"
  }
 },
 "nbformat": 4,
 "nbformat_minor": 2
}
